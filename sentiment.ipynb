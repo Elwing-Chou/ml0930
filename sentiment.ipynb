{
  "nbformat": 4,
  "nbformat_minor": 0,
  "metadata": {
    "colab": {
      "name": "sentiment.ipynb",
      "provenance": [],
      "private_outputs": true,
      "authorship_tag": "ABX9TyMJt1TU4HVD2ilRUgO1+JV5",
      "include_colab_link": true
    },
    "kernelspec": {
      "name": "python3",
      "display_name": "Python 3"
    },
    "accelerator": "GPU"
  },
  "cells": [
    {
      "cell_type": "markdown",
      "metadata": {
        "id": "view-in-github",
        "colab_type": "text"
      },
      "source": [
        "<a href=\"https://colab.research.google.com/github/Elwing-Chou/ml0930/blob/master/sentiment.ipynb\" target=\"_parent\"><img src=\"https://colab.research.google.com/assets/colab-badge.svg\" alt=\"Open In Colab\"/></a>"
      ]
    },
    {
      "cell_type": "code",
      "metadata": {
        "id": "NuT6ntUsqnP1"
      },
      "source": [
        "import tensorflow as tf\n",
        "\n",
        "dataset = tf.keras.utils.get_file(\n",
        "    fname=\"aclImdb.tar.gz\", \n",
        "    origin=\"http://ai.stanford.edu/~amaas/data/sentiment/aclImdb_v1.tar.gz\", \n",
        "    extract=True,\n",
        ")"
      ],
      "execution_count": null,
      "outputs": []
    },
    {
      "cell_type": "code",
      "metadata": {
        "id": "pSu4YRrCwZMk"
      },
      "source": [
        "import glob\n",
        "# glob.glob(\"/root/.keras/datasets/aclImdb/train/pos/*\")\n",
        "import os\n",
        "import pandas as pd\n",
        "def read(path):\n",
        "    with open(path, \"r\", encoding=\"utf-8\") as f:\n",
        "        content = f.read()\n",
        "    return content\n",
        "\n",
        "def get_data(t):\n",
        "    dn = os.path.dirname(dataset)\n",
        "    pattern = os.path.join(dn, \"aclImdb\", t, \"pos\", \"*.txt\")\n",
        "    pos = glob.glob(pattern)\n",
        "    pattern = os.path.join(dn, \"aclImdb\", t, \"neg\", \"*.txt\")\n",
        "    neg = glob.glob(pattern)\n",
        "    sentiments = [1] * len(pos) + [0] * len(neg)\n",
        "    contents = map(read, pos + neg)\n",
        "    df = pd.DataFrame({\n",
        "        \"contents\":contents,\n",
        "        \"sentiment\":sentiments\n",
        "    })\n",
        "    return df\n",
        "\n",
        "train_df = get_data(\"train\")\n",
        "test_df = get_data(\"test\")\n",
        "test_df"
      ],
      "execution_count": null,
      "outputs": []
    },
    {
      "cell_type": "code",
      "metadata": {
        "id": "jVBP-akM1Udn"
      },
      "source": [
        "from tensorflow.keras.preprocessing.text import Tokenizer\n",
        "tok = Tokenizer(num_words=3000)\n",
        "# fit_on_texts: fit_transform 的 fit\n",
        "tok.fit_on_texts(train_df[\"contents\"])\n",
        "# seq: 把所有單字換成數字的序列\n",
        "x_train_seq = tok.texts_to_sequences(train_df[\"contents\"])\n",
        "x_test_seq = tok.texts_to_sequences(test_df[\"contents\"])"
      ],
      "execution_count": null,
      "outputs": []
    },
    {
      "cell_type": "code",
      "metadata": {
        "id": "DFg7O4Ka4rhq"
      },
      "source": [
        "# tok.word_index\n",
        "tok.index_word[2]"
      ],
      "execution_count": null,
      "outputs": []
    },
    {
      "cell_type": "code",
      "metadata": {
        "id": "F7BFJpSk4Yl3"
      },
      "source": [
        "# pd.DataFrame(train_df_seq)\n",
        "# truncating: pre 12345 -> 45 post 12345 -> 12\n",
        "from tensorflow.keras.preprocessing.sequence import pad_sequences\n",
        "x_train_pad = pad_sequences(x_train_seq, 512)\n",
        "x_test_pad = pad_sequences(x_test_seq, 512)\n",
        "pd.DataFrame(x_test_pad)"
      ],
      "execution_count": null,
      "outputs": []
    },
    {
      "cell_type": "code",
      "metadata": {
        "id": "2toUA6L5--dh"
      },
      "source": [
        "from tensorflow.keras.models import Sequential\n",
        "from tensorflow.keras.layers import Embedding\n",
        "from tensorflow.keras.layers import Dense, Flatten, Dropout\n",
        "\n",
        "layers = [\n",
        "  # 1~3000(token) + 0(padding)\n",
        "  # params: 3001 * 128\n",
        "  Embedding(3001, 128, mask_zero=True, input_length=512),\n",
        "  Flatten(),\n",
        "  Dense(128, activation=\"relu\"),\n",
        "  Dropout(0.25),\n",
        "  Dense(2, activation=\"softmax\")  \n",
        "]\n",
        "model = Sequential(layers)\n",
        "model.summary()"
      ],
      "execution_count": null,
      "outputs": []
    },
    {
      "cell_type": "code",
      "metadata": {
        "id": "LDVUEHtYBBJw"
      },
      "source": [
        "from tensorflow.keras.losses import SparseCategoricalCrossentropy\n",
        "from tensorflow.keras.optimizers import Adam\n",
        "model.compile(loss=SparseCategoricalCrossentropy(),\n",
        "       optimizer=Adam(),\n",
        "       metrics=[\"accuracy\"])"
      ],
      "execution_count": null,
      "outputs": []
    },
    {
      "cell_type": "code",
      "metadata": {
        "id": "Xn2RJIdnBPTN"
      },
      "source": [
        "y_train = train_df[\"sentiment\"]\n",
        "y_test = test_df[\"sentiment\"]"
      ],
      "execution_count": null,
      "outputs": []
    },
    {
      "cell_type": "code",
      "metadata": {
        "id": "DhzEPM55BKSe"
      },
      "source": [
        "# epoch: 整份資料要看幾遍\n",
        "# 60000筆, 2epoch, 200batch -> 60000 * 2 / 200次調整\n",
        "from tensorflow.keras.callbacks import EarlyStopping, ModelCheckpoint\n",
        "callbacks = [\n",
        "    ModelCheckpoint(\"model.h5\", save_best_only=True),\n",
        "    EarlyStopping(patience=5, restore_best_weights=True)\n",
        "]\n",
        "model.fit(x_train_pad, \n",
        "     y_train,\n",
        "     batch_size=100,\n",
        "     epochs=50,\n",
        "     validation_split=0.1,\n",
        "     callbacks=callbacks,\n",
        "     verbose=2)"
      ],
      "execution_count": null,
      "outputs": []
    },
    {
      "cell_type": "code",
      "metadata": {
        "id": "Au-evUSLBhtd"
      },
      "source": [
        "model.evaluate(x_test_pad, y_test)"
      ],
      "execution_count": null,
      "outputs": []
    }
  ]
}