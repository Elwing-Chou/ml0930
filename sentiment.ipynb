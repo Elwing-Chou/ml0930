{
  "nbformat": 4,
  "nbformat_minor": 0,
  "metadata": {
    "colab": {
      "name": "sentiment.ipynb",
      "provenance": [],
      "private_outputs": true,
      "authorship_tag": "ABX9TyOnmG/MwdgUIFSv+p4M8dq3",
      "include_colab_link": true
    },
    "kernelspec": {
      "name": "python3",
      "display_name": "Python 3"
    },
    "accelerator": "GPU"
  },
  "cells": [
    {
      "cell_type": "markdown",
      "metadata": {
        "id": "view-in-github",
        "colab_type": "text"
      },
      "source": [
        "<a href=\"https://colab.research.google.com/github/Elwing-Chou/ml0930/blob/master/sentiment.ipynb\" target=\"_parent\"><img src=\"https://colab.research.google.com/assets/colab-badge.svg\" alt=\"Open In Colab\"/></a>"
      ]
    },
    {
      "cell_type": "code",
      "metadata": {
        "id": "NuT6ntUsqnP1"
      },
      "source": [
        "import tensorflow as tf\n",
        "\n",
        "dataset = tf.keras.utils.get_file(\n",
        "    fname=\"aclImdb.tar.gz\", \n",
        "    origin=\"http://ai.stanford.edu/~amaas/data/sentiment/aclImdb_v1.tar.gz\", \n",
        "    extract=True,\n",
        ")"
      ],
      "execution_count": null,
      "outputs": []
    },
    {
      "cell_type": "code",
      "metadata": {
        "id": "pSu4YRrCwZMk"
      },
      "source": [
        "import glob\n",
        "# glob.glob(\"/root/.keras/datasets/aclImdb/train/pos/*\")\n",
        "import os\n",
        "import pandas as pd\n",
        "def read(path):\n",
        "    with open(path, \"r\", encoding=\"utf-8\") as f:\n",
        "        content = f.read()\n",
        "    return content\n",
        "\n",
        "def get_data(t):\n",
        "    dn = os.path.dirname(dataset)\n",
        "    pattern = os.path.join(dn, \"aclImdb\", t, \"pos\", \"*.txt\")\n",
        "    pos = glob.glob(pattern)\n",
        "    pattern = os.path.join(dn, \"aclImdb\", t, \"neg\", \"*.txt\")\n",
        "    neg = glob.glob(pattern)\n",
        "    sentiments = [1] * len(pos) + [0] * len(neg)\n",
        "    contents = map(read, pos + neg)\n",
        "    df = pd.DataFrame({\n",
        "        \"contents\":contents,\n",
        "        \"sentiment\":sentiments\n",
        "    })\n",
        "    return df\n",
        "\n",
        "train_df = get_data(\"train\")\n",
        "test_df = get_data(\"test\")\n",
        "test_df"
      ],
      "execution_count": null,
      "outputs": []
    }
  ]
}