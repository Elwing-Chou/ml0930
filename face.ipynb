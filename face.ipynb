{
  "nbformat": 4,
  "nbformat_minor": 0,
  "metadata": {
    "colab": {
      "name": "face.ipynb",
      "provenance": [],
      "private_outputs": true,
      "authorship_tag": "ABX9TyO1D/nNcTbKL84xXPuPtYZt",
      "include_colab_link": true
    },
    "kernelspec": {
      "name": "python3",
      "display_name": "Python 3"
    },
    "accelerator": "GPU"
  },
  "cells": [
    {
      "cell_type": "markdown",
      "metadata": {
        "id": "view-in-github",
        "colab_type": "text"
      },
      "source": [
        "<a href=\"https://colab.research.google.com/github/Elwing-Chou/ml0930/blob/master/face.ipynb\" target=\"_parent\"><img src=\"https://colab.research.google.com/assets/colab-badge.svg\" alt=\"Open In Colab\"/></a>"
      ]
    },
    {
      "cell_type": "code",
      "metadata": {
        "id": "L2RE326LOuo9"
      },
      "source": [
        "!pip install face_recognition"
      ],
      "execution_count": null,
      "outputs": []
    },
    {
      "cell_type": "code",
      "metadata": {
        "id": "ZP7a7c3MQqJ4"
      },
      "source": [
        "import face_recognition\n",
        "import matplotlib.pyplot as plt\n",
        "\n",
        "img = face_recognition.load_image_file(\"川普.jpg\")\n",
        "en = face_recognition.face_encodings(img)[0]\n",
        "print(\"TRUMP:\", en)\n",
        "plt.imshow(img)"
      ],
      "execution_count": null,
      "outputs": []
    },
    {
      "cell_type": "code",
      "metadata": {
        "id": "4iw7JwzsSjeP"
      },
      "source": [
        "import glob\n",
        "import os\n",
        "formats = [\"jpg\", \"png\", \"jpeg\"]\n",
        "fn = []\n",
        "for f in formats:\n",
        "    fn = fn + glob.glob(\"*.{}\".format(f))\n",
        "    fn = fn + glob.glob(\"*.{}\".format(f.upper()))\n",
        "encodings = []\n",
        "names = []\n",
        "for f in fn:\n",
        "    try:\n",
        "        img = face_recognition.load_image_file(f)\n",
        "        en = face_recognition.face_encodings(img)[0]  \n",
        "        encodings.append(en)\n",
        "        n = os.path.basename(f).split(\".\")[0]\n",
        "        names.append(n)\n",
        "    except IndexError:\n",
        "        print(f, \"找不到人臉\")\n",
        "print(names)"
      ],
      "execution_count": null,
      "outputs": []
    },
    {
      "cell_type": "code",
      "metadata": {
        "id": "UCiBGeaSUiPs"
      },
      "source": [
        "import cv2\n",
        "import requests\n",
        "headers = {\n",
        "    \"user-agent\":\"Mozilla/5.0 (Windows NT 10.0; Win64; x64) AppleWebKit/537.36 (KHTML, like Gecko) Chrome/86.0.4240.111 Safari/537.36\"\n",
        "}\n",
        "url = input(\"網址:\")\n",
        "response = requests.get(url, headers=headers, stream=True, verify=False)\n",
        "img = face_recognition.load_image_file(response.raw)\n",
        "\n",
        "locs = face_recognition.face_locations(img, model=\"cnn\")\n",
        "ens = face_recognition.face_encodings(img, known_face_locations=locs)\n",
        "\n",
        "for en, loc in zip(ens, locs):\n",
        "    (top, right, bottom, left) = loc\n",
        "    cv2.rectangle(img, (left, top), (right, bottom), (255, 0, 0), 2)\n",
        "    distances = face_recognition.face_distance(en, encodings)\n",
        "    for na, dis in zip(names, distances):\n",
        "        print(na, \"的距離:\", dis)\n",
        "    print(\"最相近:\", names[distances.argmin()])\n",
        "    print(\"-\" * 30)\n",
        "    font = cv2.FONT_HERSHEY_DUPLEX\n",
        "    d = str(round(min(distances), 2))\n",
        "    cv2.putText(img, d, (left + 6, bottom - 6), font, 0.7, (255, 0, 0), 1)\n",
        "\n",
        "plt.imshow(img)"
      ],
      "execution_count": null,
      "outputs": []
    }
  ]
}